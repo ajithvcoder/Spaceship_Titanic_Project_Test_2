{
 "cells": [
  {
   "cell_type": "code",
   "execution_count": 1,
   "metadata": {},
   "outputs": [
    {
     "data": {
      "text/plain": [
       "'/home/ajith/projects/Spaceship_Titanic_MLOps_Project'"
      ]
     },
     "execution_count": 1,
     "metadata": {},
     "output_type": "execute_result"
    }
   ],
   "source": [
    "import os\n",
    "os.chdir(\"../\")\n",
    "%pwd"
   ]
  },
  {
   "cell_type": "code",
   "execution_count": 2,
   "metadata": {},
   "outputs": [],
   "source": [
    "from dataclasses import dataclass\n",
    "from pathlib import Path\n",
    "\n",
    "\n",
    "@dataclass(frozen=True)\n",
    "class EvaluationConfig:\n",
    "    base_model_path: Path\n",
    "    path_of_model: Path\n",
    "    training_data: Path\n",
    "    encoder_traindata: Path\n",
    "    onnx_model_path: Path\n",
    "    params_features: int\n",
    "    all_params: dict\n",
    "    params_batch_size: int"
   ]
  },
  {
   "cell_type": "code",
   "execution_count": 3,
   "metadata": {},
   "outputs": [],
   "source": [
    "from titanicSpaceShip.constants import *\n",
    "from titanicSpaceShip.utils.common import read_yaml, create_directories, save_json"
   ]
  },
  {
   "cell_type": "code",
   "execution_count": 4,
   "metadata": {},
   "outputs": [],
   "source": [
    "class ConfigurationManager:\n",
    "    def __init__(\n",
    "        self, \n",
    "        config_filepath = CONFIG_FILE_PATH,\n",
    "        params_filepath = PARAMS_FILE_PATH):\n",
    "        self.config = read_yaml(config_filepath)\n",
    "        self.params = read_yaml(params_filepath)\n",
    "        create_directories([self.config.artifacts_root])\n",
    "\n",
    "    \n",
    "    def get_validation_config(self) -> EvaluationConfig:\n",
    "        training = self.config.training\n",
    "        eval_config = EvaluationConfig(\n",
    "            base_model_path=\"artifacts/prepare_base_model/base_model.pt\",\n",
    "            path_of_model=\"artifacts/training/model.pt\",\n",
    "            training_data=\"artifacts/data_ingestion/data_spaceShip.csv\",\n",
    "            encoder_traindata=Path(training.encoder_traindata),\n",
    "            onnx_model_path=Path(training.onnx_model_path),\n",
    "            params_features=self.params.FEATURES,\n",
    "            all_params=self.params,\n",
    "            params_batch_size=self.params.BATCH_SIZE\n",
    "        )\n",
    "        return eval_config"
   ]
  },
  {
   "cell_type": "code",
   "execution_count": 5,
   "metadata": {},
   "outputs": [],
   "source": [
    "import torch.nn as nn\n",
    "import torch\n",
    "from titanicSpaceShip import logger\n",
    "import pickle\n",
    "import shutil\n",
    "import onnxruntime\n",
    "import pandas as pd\n",
    "import numpy as np\n",
    "from sklearn.model_selection import train_test_split\n",
    "from torch.utils.data import Dataset, DataLoader"
   ]
  },
  {
   "cell_type": "code",
   "execution_count": 6,
   "metadata": {},
   "outputs": [],
   "source": [
    "class CustomDataset(Dataset):\n",
    "    def __init__(self, features, labels):\n",
    "        self.features = features\n",
    "        self.labels = labels\n",
    "    def __len__(self):\n",
    "        return len(self.features)\n",
    "    def __getitem__(self, idx):\n",
    "        return self.features[idx], self.labels[idx]\n",
    "\n",
    "class Evaluation:\n",
    "    def __init__(self, config: EvaluationConfig):\n",
    "        self.config = config\n",
    "\n",
    "\n",
    "    def get_base_model(self):\n",
    "        # print(self.config.base_model_path)\n",
    "        self.model = torch.load(\n",
    "            self.config.base_model_path\n",
    "        )\n",
    "        self.criterion = nn.BCELoss()\n",
    "        self.optimizer = torch.optim.Adam(self.model.parameters(), lr=0.001)\n",
    "\n",
    "    def _valid_generator(self):\n",
    "\n",
    "        data = pd.read_csv(self.config.training_data)\n",
    "        y = data[\"Transported\"]\n",
    "        y = data[\"Transported\"].astype(int)\n",
    "        X = data.drop([\"SNo\",\"Transported\"], axis=1)\n",
    "        X[\"CryoSleep\"] = X[\"CryoSleep\"].astype(float)\n",
    "        X[\"VIP\"] = X[\"VIP\"].astype(float)\n",
    "        multicol_encoded = []\n",
    "        print(self.config.encoder_traindata)\n",
    "        with open(self.config.encoder_traindata, 'rb') as f:\n",
    "            encoder = pickle.load(f)\n",
    "            multicol_encoded = encoder.transform(X[[\"HomePlanet\",\"Destination\"]])\n",
    "            multicol_encoded = multicol_encoded.toarray()\n",
    "            multicol_encoded = pd.DataFrame(multicol_encoded, columns=encoder.get_feature_names_out())\n",
    "        X.drop([\"HomePlanet\",\"Destination\"], axis=1, inplace=True)\n",
    "        X = pd.concat([X, multicol_encoded], axis=1)\n",
    "        X_tensor = torch.Tensor(X.values)\n",
    "        y_tensor = torch.Tensor(y)\n",
    "        X_train, X_test, y_train, y_test = train_test_split(X_tensor, y_tensor, test_size=0.2, random_state=21)\n",
    "        test_dataset = CustomDataset(X_test, y_test)\n",
    "        self.test_loader = DataLoader(test_dataset, batch_size= self.config.params_batch_size, shuffle=True)\n",
    "\n",
    "    def load_model(self, path: Path) -> nn.Module:\n",
    "        checkpoint = torch.load(path, map_location=torch.device('cpu'))  # You can change 'cpu' to your desired device\n",
    "        self.model.load_state_dict(checkpoint['model_state_dict'])\n",
    "        logger.info(f\"Model loaded from {path}\")\n",
    "        return self.model\n",
    "\n",
    "    def copymodel_to_torchserve(self, dest_model_path, dest_encoder_path):\n",
    "        shutil.copyfile(self.config.onnx_model_path, dest_model_path)\n",
    "        shutil.copyfile(self.config.encoder_traindata, dest_encoder_path)\n",
    "\n",
    "    def convert_to_onnx(self):\n",
    "        dummy = torch.randn(self.config.params_features, requires_grad=True)\n",
    "        torch.onnx.export(self.model,\n",
    "                  dummy,\n",
    "                  self.config.onnx_model_path,\n",
    "                  export_params=True,\n",
    "                  opset_version=10,\n",
    "                  do_constant_folding=True,\n",
    "                  input_names = ['input'],\n",
    "                  output_names = ['output'],\n",
    "                  )\n",
    "        torch_out = self.model(dummy)\n",
    "        ort_session = onnxruntime.InferenceSession(self.config.onnx_model_path, providers=[\"CPUExecutionProvider\"])\n",
    "\n",
    "        def to_numpy(tensor):\n",
    "            return tensor.detach().cpu().numpy() if tensor.requires_grad else tensor.cpu().numpy()\n",
    "\n",
    "        # compute ONNX Runtime output prediction\n",
    "        ort_inputs = {ort_session.get_inputs()[0].name: to_numpy(dummy)}\n",
    "        ort_outs = ort_session.run(None, ort_inputs)\n",
    "\n",
    "        # compare ONNX Runtime and PyTorch results\n",
    "        np.testing.assert_allclose(to_numpy(torch_out), ort_outs[0], rtol=1e-03, atol=1e-05)\n",
    "\n",
    "        logger.info(\"Exported model has been tested with ONNXRuntime, and the result looks good!\")\n",
    "\n",
    "    def evaluation(self):\n",
    "        self.model = self.load_model(self.config.path_of_model)\n",
    "        self._valid_generator()\n",
    "        correct_predictions = 0\n",
    "        total_samples = 0\n",
    "        self.val_loss = 0\n",
    "        with torch.no_grad():\n",
    "            for inputs, labels in self.test_loader:\n",
    "                outputs_test = self.model(inputs)\n",
    "                outputs_test = (outputs_test >= 0.3).float()\n",
    "                correct_predictions += torch.sum(outputs_test[:,0]==labels)\n",
    "                total_samples += labels.size(0)\n",
    "                loss = self.criterion(outputs_test[:,0], labels)\n",
    "                self.val_loss += loss.item()\n",
    "        self.test_accuracy = f\"{(correct_predictions/total_samples)*100:.2f}\"\n",
    "        self.save_score()\n",
    "        print(f\"Test Accuracy : {self.test_accuracy}%\")\n",
    "        self.convert_to_onnx()\n",
    "        self.copymodel_to_torchserve(\"torchserve/models/spaceship.onnx\", \"torchserve/utils/encoder_traindata.pickle\")\n",
    "\n",
    "    \n",
    "    def save_score(self):\n",
    "        scores = {\"loss\": self.val_loss, \"accuracy\": self.test_accuracy}\n",
    "        save_json(path=Path(\"scores.json\"), data=scores)\n"
   ]
  },
  {
   "cell_type": "code",
   "execution_count": 7,
   "metadata": {},
   "outputs": [
    {
     "name": "stdout",
     "output_type": "stream",
     "text": [
      "[2024-01-14 13:20:45,355: INFO: common: yaml file: config/config.yaml loaded successfully]\n",
      "[2024-01-14 13:20:45,363: INFO: common: yaml file: params.yaml loaded successfully]\n",
      "[2024-01-14 13:20:45,365: INFO: common: created directory at: artifacts]\n",
      "[2024-01-14 13:20:45,658: INFO: 2013219406: Model loaded from artifacts/training/model.pt]\n",
      "artifacts/training/encoder_traindata.pickle\n",
      "[2024-01-14 13:20:45,713: INFO: common: json file saved at: scores.json]\n",
      "Test Accuracy : 77.34%\n",
      "[2024-01-14 13:20:45,833: INFO: 2013219406: Exported model has been tested with ONNXRuntime, and the result looks good!]\n",
      "[2024-01-14 13:20:45,835: INFO: common: json file saved at: scores.json]\n"
     ]
    }
   ],
   "source": [
    "try:\n",
    "    config = ConfigurationManager()\n",
    "    val_config = config.get_validation_config()\n",
    "    evaluation = Evaluation(val_config)\n",
    "    evaluation.get_base_model()\n",
    "    evaluation.evaluation()\n",
    "    evaluation.save_score()\n",
    "\n",
    "except Exception as e:\n",
    "   raise e"
   ]
  }
 ],
 "metadata": {
  "kernelspec": {
   "display_name": "spaceship",
   "language": "python",
   "name": "python3"
  },
  "language_info": {
   "codemirror_mode": {
    "name": "ipython",
    "version": 3
   },
   "file_extension": ".py",
   "mimetype": "text/x-python",
   "name": "python",
   "nbconvert_exporter": "python",
   "pygments_lexer": "ipython3",
   "version": "3.11.7"
  }
 },
 "nbformat": 4,
 "nbformat_minor": 2
}
