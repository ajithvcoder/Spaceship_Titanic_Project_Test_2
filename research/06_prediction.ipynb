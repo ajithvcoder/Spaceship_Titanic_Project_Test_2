{
 "cells": [
  {
   "cell_type": "code",
   "execution_count": 1,
   "metadata": {},
   "outputs": [
    {
     "data": {
      "text/plain": [
       "'/home/ajith/projects/Spaceship_Titanic_MLOps_Project'"
      ]
     },
     "execution_count": 1,
     "metadata": {},
     "output_type": "execute_result"
    }
   ],
   "source": [
    "import os\n",
    "os.chdir(\"../\")\n",
    "%pwd"
   ]
  },
  {
   "cell_type": "code",
   "execution_count": 4,
   "metadata": {},
   "outputs": [],
   "source": [
    "import pandas as pd\n",
    "import pickle\n",
    "import torch"
   ]
  },
  {
   "cell_type": "code",
   "execution_count": 2,
   "metadata": {},
   "outputs": [],
   "source": [
    "data = {\"HomePlanet\":[\"Earth\"],\"CryoSleep\":[False],\"Destination\":[\"TRAPPIST-1e\"],\\\n",
    "     \"Age\":[31.0],\"VIP\":[False],\"RoomService\":[32.0],\"FoodCourt\":[0.0],\"ShoppingMall\":[876.0],\"Spa\":[0.0],\"VRDeck\":[0.0]}\n"
   ]
  },
  {
   "cell_type": "markdown",
   "metadata": {},
   "source": [
    "15,Earth,False,TRAPPIST-1e,31.0,False,32.0,0.0,876.0,0.0,0.0,False\n",
    "10,Europa,True,TRAPPIST-1e,34.0,False,0.0,0.0,0.0,0.0,0.0,True"
   ]
  },
  {
   "cell_type": "code",
   "execution_count": 6,
   "metadata": {},
   "outputs": [],
   "source": [
    "data = {\"HomePlanet\":[\"Europa\"],\"CryoSleep\":[True],\"Destination\":[\"TRAPPIST-1e\"],\\\n",
    "     \"Age\":[34.0],\"VIP\":[False],\"RoomService\":[0.0],\"FoodCourt\":[0.0],\"ShoppingMall\":[0.0],\"Spa\":[0.0],\"VRDeck\":[0.0]}\n"
   ]
  },
  {
   "cell_type": "code",
   "execution_count": 7,
   "metadata": {},
   "outputs": [
    {
     "name": "stdout",
     "output_type": "stream",
     "text": [
      "tensor([[0.5622]], grad_fn=<SigmoidBackward0>)\n",
      "True\n"
     ]
    }
   ],
   "source": [
    "features = pd.DataFrame.from_dict(data)\n",
    "features[\"CryoSleep\"] = features[\"CryoSleep\"].astype(float)\n",
    "features[\"VIP\"] = features[\"VIP\"].astype(float)\n",
    "with open(os.path.join(\"artifacts\",\"training\",\"encoder_traindata.pickle\"), 'rb') as f:\n",
    "    enc = pickle.load(f)\n",
    "    transenc = enc.transform(features[[\"HomePlanet\",\"Destination\"]])\n",
    "    transenc = transenc.toarray()\n",
    "    transformed_data = pd.DataFrame(transenc, columns=enc.get_feature_names_out())\n",
    "    features.drop([\"HomePlanet\",\"Destination\"], axis=1, inplace=True)\n",
    "    features = pd.concat([features, transformed_data], axis=1)\n",
    "model = torch.load(os.path.join(\"artifacts\",\"prepare_base_model\", \"base_model.pt\"))\n",
    "checkpoint = torch.load(os.path.join(\"artifacts\",\"training\", \"model.pt\"), map_location=torch.device('cpu'))\n",
    "model.load_state_dict(checkpoint['model_state_dict'])\n",
    "result = model(torch.Tensor(features.values))\n",
    "print(result)\n",
    "result = result.item() > 0.3\n",
    "print(result)"
   ]
  }
 ],
 "metadata": {
  "kernelspec": {
   "display_name": "spaceship",
   "language": "python",
   "name": "python3"
  },
  "language_info": {
   "codemirror_mode": {
    "name": "ipython",
    "version": 3
   },
   "file_extension": ".py",
   "mimetype": "text/x-python",
   "name": "python",
   "nbconvert_exporter": "python",
   "pygments_lexer": "ipython3",
   "version": "3.11.7"
  }
 },
 "nbformat": 4,
 "nbformat_minor": 2
}
